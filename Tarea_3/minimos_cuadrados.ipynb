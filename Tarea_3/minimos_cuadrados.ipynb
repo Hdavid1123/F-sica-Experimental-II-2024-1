{
 "cells": [
  {
   "cell_type": "code",
   "execution_count": 2,
   "metadata": {},
   "outputs": [],
   "source": [
    "import numpy as np\n",
    "import matplotlib.pyplot as plt\n",
    "\n",
    "mass_organization = [0, 50, 100, 200, 300, 400, 500]\n",
    "\n",
    "wood_newtons = [0.6, 0.8, 1.0, 1.3, 1.7, 2.0, 2.4]\n",
    "dwood_newtons = [0.1, 0.1, 0.1, 0.1, 0.1, 0.2, 0.2]\n",
    "\n",
    "fabric_newtons = [0.7, 0.8, 0.9, 1.2, 1.4, 1.7, 1.9]\n",
    "dfabric_newtons = [0.1, 0.1, 0.1, 0.1, 0.1, 0.1, 0.1]"
   ]
  },
  {
   "cell_type": "code",
   "execution_count": null,
   "metadata": {},
   "outputs": [],
   "source": []
  }
 ],
 "metadata": {
  "kernelspec": {
   "display_name": "Python 3",
   "language": "python",
   "name": "python3"
  },
  "language_info": {
   "codemirror_mode": {
    "name": "ipython",
    "version": 3
   },
   "file_extension": ".py",
   "mimetype": "text/x-python",
   "name": "python",
   "nbconvert_exporter": "python",
   "pygments_lexer": "ipython3",
   "version": "3.10.12"
  }
 },
 "nbformat": 4,
 "nbformat_minor": 2
}
