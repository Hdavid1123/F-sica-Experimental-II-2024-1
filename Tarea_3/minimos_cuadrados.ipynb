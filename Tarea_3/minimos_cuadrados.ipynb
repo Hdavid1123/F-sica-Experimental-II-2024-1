{
 "cells": [
  {
   "cell_type": "code",
   "execution_count": 39,
   "metadata": {},
   "outputs": [],
   "source": [
    "import numpy as np\n",
    "import matplotlib.pyplot as plt\n",
    "\n",
    "mass_organization = [0, 50, 100, 200, 300, 400, 500]\n",
    "\n",
    "wood_newtons = [0.6, 0.8, 1.0, 1.3, 1.7, 2.0, 2.4]\n",
    "dwood_newtons = [0.1, 0.1, 0.1, 0.1, 0.1, 0.2, 0.2]\n",
    "\n",
    "fabric_newtons = [0.7, 0.8, 0.9, 1.2, 1.4, 1.7, 1.9]\n",
    "dfabric_newtons = [0.1, 0.1, 0.1, 0.1, 0.1, 0.1, 0.1]"
   ]
  },
  {
   "cell_type": "markdown",
   "metadata": {},
   "source": [
    "El coeficiente de fricción dinámica está dado por:\n",
    "\n",
    "$$ F = \\mu_{D}\\ N $$\n",
    "$$ F = \\frac{\\mu_{D}}{M\\ g}\n",
    "\n",
    "Despejando tenemos:\n",
    "\n",
    "$$ \\mu_{D} = \\frac{F}{M\\ g} $$"
   ]
  },
  {
   "cell_type": "code",
   "execution_count": 40,
   "metadata": {},
   "outputs": [
    {
     "ename": "SyntaxError",
     "evalue": "invalid syntax (1593504215.py, line 5)",
     "output_type": "error",
     "traceback": [
      "\u001b[1;36m  Cell \u001b[1;32mIn[40], line 5\u001b[1;36m\u001b[0m\n\u001b[1;33m    dcoef =\u001b[0m\n\u001b[1;37m            ^\u001b[0m\n\u001b[1;31mSyntaxError\u001b[0m\u001b[1;31m:\u001b[0m invalid syntax\n"
     ]
    }
   ],
   "source": [
    "# Calculo del coeficiente de friccion dinámica\n",
    "\n",
    "def coef_din(masa_bloque, fuerza, dfuerza):\n",
    "    coef = fuerza / (masa_bloque * 9.8)\n",
    "    dcoef = \n",
    "    return coef, dcoef"
   ]
  },
  {
   "cell_type": "markdown",
   "metadata": {},
   "source": [
    "# Calculando la masa (en gramos)\n"
   ]
  },
  {
   "cell_type": "code",
   "execution_count": 34,
   "metadata": {},
   "outputs": [
    {
     "name": "stdout",
     "output_type": "stream",
     "text": [
      "[149.99999999999994, 149.99999999999997, 171.42857142857142, 163.63636363636363, 171.42857142857144, 166.66666666666669, 150.00000000000003, 190.0, 172.22222222222223, 183.33333333333334, 175.0, 233.3333333333333, 185.71428571428572, 200.0, 185.71428571428575, 125.00000000000006, 171.42857142857147, 154.54545454545462, 266.6666666666667, 185.7142857142858, 100.00000000000013]\n"
     ]
    }
   ],
   "source": [
    "masa = []\n",
    "\n",
    "for i in range(len(wood_newtons)):\n",
    "    for j in range(i+1, len(wood_newtons)):  # Iteramos sobre los índices restantes para evitar duplicados\n",
    "        m = (((mass_organization[j] / wood_newtons[j]) - (mass_organization[i] / wood_newtons[i])) * ( (wood_newtons[j] * wood_newtons[i]) / (wood_newtons[j] - wood_newtons[i])))\n",
    "        \n",
    "        masa.append(m)\n",
    "\n",
    "print(masa)"
   ]
  },
  {
   "cell_type": "code",
   "execution_count": 38,
   "metadata": {},
   "outputs": [
    {
     "data": {
      "text/plain": [
       "(array([ 2.,  6., 11.,  1.,  1.]),\n",
       " array([100.        , 133.33333333, 166.66666667, 200.        ,\n",
       "        233.33333333, 266.66666667]),\n",
       " <BarContainer object of 5 artists>)"
      ]
     },
     "execution_count": 38,
     "metadata": {},
     "output_type": "execute_result"
    },
    {
     "data": {
      "image/png": "[encoded data removed]",
      "text/plain": [
       "<Figure size 640x480 with 1 Axes>"
      ]
     },
     "metadata": {},
     "output_type": "display_data"
    }
   ],
   "source": [
    "plt.hist(masa, bins = 5)"
   ]
  },
  {
   "cell_type": "code",
   "execution_count": 46,
   "metadata": {},
   "outputs": [
    {
     "name": "stdout",
     "output_type": "stream",
     "text": [
      "El promedio es: 173.90 \n",
      "La desviación estándar es: 33.60 \n"
     ]
    }
   ],
   "source": [
    "print(\"El promedio es: %.2f \" %np.mean(masa))\n",
    "print(\"La desviación estándar es: %.2f \" %np.std(masa))"
   ]
  }
 ],
 "metadata": {
  "kernelspec": {
   "display_name": "Python 3",
   "language": "python",
   "name": "python3"
  },
  "language_info": {
   "codemirror_mode": {
    "name": "ipython",
    "version": 3
   },
   "file_extension": ".py",
   "mimetype": "text/x-python",
   "name": "python",
   "nbconvert_exporter": "python",
   "pygments_lexer": "ipython3",
   "version": "3.11.8"
  }
 },
 "nbformat": 4,
 "nbformat_minor": 2
}
