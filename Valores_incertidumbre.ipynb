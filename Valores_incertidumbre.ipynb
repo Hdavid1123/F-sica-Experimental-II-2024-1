{
 "cells": [
  {
   "cell_type": "code",
   "execution_count": 4,
   "metadata": {},
   "outputs": [],
   "source": [
    "# Valores del ángulo de deslizamiento medida con el transportador integrado\n",
    "# en la madera y en la tela, con una resolución de\n",
    "\n",
    "resolution = 1 # grades\n",
    "\n",
    "integrated_fabric = [26, 28, 30, 25, 30, 26, 27, 27, 31, 29,\n",
    "                     29, 30, 30, 27, 28, 27, 28, 30, 26, 29, \n",
    "                     27, 28, 25, 27, 28, 26, 26, 26, 28, 30]\n",
    "\n",
    "integrated_wood = [36, 30, 30, 29, 34, 30, 30, 28, 26, 36,\n",
    "                   30, 33, 25, 28, 30, 28, 31, 29, 29, 32,\n",
    "                   32, 31, 34, 29, 27, 31, 29, 28, 25, 33]"
   ]
  },
  {
   "cell_type": "code",
   "execution_count": 7,
   "metadata": {},
   "outputs": [
    {
     "ename": "ModuleNotFoundError",
     "evalue": "No module named 'numpy'",
     "output_type": "error",
     "traceback": [
      "\u001b[1;31m---------------------------------------------------------------------------\u001b[0m",
      "\u001b[1;31mModuleNotFoundError\u001b[0m                       Traceback (most recent call last)",
      "Cell \u001b[1;32mIn[7], line 1\u001b[0m\n\u001b[1;32m----> 1\u001b[0m \u001b[38;5;28;01mimport\u001b[39;00m \u001b[38;5;21;01mnumpy\u001b[39;00m \u001b[38;5;28;01mas\u001b[39;00m \u001b[38;5;21;01mnp\u001b[39;00m\n\u001b[0;32m      2\u001b[0m \u001b[38;5;28;01mimport\u001b[39;00m \u001b[38;5;21;01mmatplotlib\u001b[39;00m\u001b[38;5;21;01m.\u001b[39;00m\u001b[38;5;21;01mpyplot\u001b[39;00m \u001b[38;5;28;01mas\u001b[39;00m \u001b[38;5;21;01mplt\u001b[39;00m\n\u001b[0;32m      3\u001b[0m \u001b[38;5;28;01mimport\u001b[39;00m \u001b[38;5;21;01mpandas\u001b[39;00m \u001b[38;5;28;01mas\u001b[39;00m \u001b[38;5;21;01mpd\u001b[39;00m\n",
      "\u001b[1;31mModuleNotFoundError\u001b[0m: No module named 'numpy'"
     ]
    }
   ],
   "source": [
    "import numpy as np\n",
    "import matplotlib.pyplot as plt\n",
    "import pandas as pd\n",
    "\n",
    "# Leemos el archivo de datos .csv\n",
    "app_fabric = pd.read_csv('app_fabric.csv')\n",
    "\n",
    "# Obtenemos los índices de los 30 valores más grandes\n",
    "top_30_index = app_fabric[\"Tilt up/down (deg)\"].nlargest(30).index\n",
    "top_30_index = top_30_index.sort_values(ascending=True)\n",
    "\n",
    "\n",
    "# Seleccionamos los datos originales utilizando los índices obtenidos\n",
    "app_fabric_top30 = app_fabric[\"Tilt up/down (deg)\"].loc[top_30_index].to_numpy()\n",
    "\n",
    "print(app_fabric_top30)"
   ]
  },
  {
   "cell_type": "code",
   "execution_count": 6,
   "metadata": {},
   "outputs": [
    {
     "data": {
      "text/plain": [
       "[<matplotlib.lines.Line2D at 0x7fe945f31ff0>]"
      ]
     },
     "execution_count": 6,
     "metadata": {},
     "output_type": "execute_result"
    },
    {
     "data": {
      "image/png": "[encoded data removed]",
      "text/plain": [
       "<Figure size 640x480 with 1 Axes>"
      ]
     },
     "metadata": {},
     "output_type": "display_data"
    }
   ],
   "source": [
    "plt.plot(app_fabric_top30, \"o\")"
   ]
  },
  {
   "cell_type": "code",
   "execution_count": null,
   "metadata": {},
   "outputs": [],
   "source": [
    "# Leemos el archivo de datos .csv\n",
    "app_fabric = pd.read_csv('app_wood.csv')\n",
    "\n",
    "# Obtenemos los índices de los 30 valores más grandes\n",
    "top_30_index = app_fabric[\"Tilt up/down (deg)\"].nlargest(30).index\n",
    "top_30_index = top_30_index.sort_values(ascending=True)\n",
    "\n",
    "\n",
    "# Seleccionamos los datos originales utilizando los índices obtenidos\n",
    "app_fabric_top30 = app_fabric[\"Tilt up/down (deg)\"].loc[top_30_index].to_numpy()\n",
    "\n",
    "print(app_fabric_top30)"
   ]
  }
 ],
 "metadata": {
  "kernelspec": {
   "display_name": "base",
   "language": "python",
   "name": "python3"
  },
  "language_info": {
   "codemirror_mode": {
    "name": "ipython",
    "version": 3
   },
   "file_extension": ".py",
   "mimetype": "text/x-python",
   "name": "python",
   "nbconvert_exporter": "python",
   "pygments_lexer": "ipython3",
   "version": "3.11.8"
  }
 },
 "nbformat": 4,
 "nbformat_minor": 2
}
